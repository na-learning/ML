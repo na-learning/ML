{
  "cells": [
    {
      "cell_type": "markdown",
      "metadata": {
        "id": "view-in-github",
        "colab_type": "text"
      },
      "source": [
        "<a href=\"https://colab.research.google.com/github/na-learning/ML/blob/main/ML.ipynb\" target=\"_parent\"><img src=\"https://colab.research.google.com/assets/colab-badge.svg\" alt=\"Open In Colab\"/></a>"
      ]
    },
    {
      "cell_type": "code",
      "execution_count": 13,
      "metadata": {
        "id": "hI-O4dbyZduB"
      },
      "outputs": [],
      "source": [
        "import pandas as pd\n",
        "import numpy as np\n",
        "import matplotlib.pyplot as plt\n",
        "from sklearn.model_selection import train_test_split, GridSearchCV\n",
        "from sklearn.metrics import mean_absolute_error\n",
        "\n",
        "from sklearn.pipeline import Pipeline\n",
        "from sklearn.preprocessing import StandardScaler, OneHotEncoder, FunctionTransformer\n",
        "from sklearn.compose import ColumnTransformer\n",
        "from sklearn.linear_model import LinearRegression\n",
        "from sklearn.ensemble import RandomForestRegressor"
      ]
    },
    {
      "cell_type": "markdown",
      "metadata": {
        "id": "Q9pHhuPkZtgv"
      },
      "source": [
        "Load the NYC taxi dataset into a Pandas DataFrame and do a few basic checks to ensure the data is loaded properly. Note, there are several months of data that can be used. For simplicity, use the Yellow Taxi 2022-01 parquet file here. Here are your tasks:\n",
        "\n",
        "1. Load the yellow_tripdata_2022-01.parquet file into Pandas.\n",
        "2. Print the first 5 rows of data.\n",
        "3. Drop any rows of data that contain NULL values.\n",
        "4. Create a new feature, 'trip_duration' that captures the duration of the trip in minutes.\n",
        "5. Create a varible named 'target_variable' to store the name of the thing we're trying to predict, 'total_amount'.\n",
        "6. Create a list called 'feature_cols' containing the feature names that we'll be using to predict our target variable. The list should contain 'VendorID', 'trip_distance', 'payment_type', 'PULocationID', 'DOLocationID', and 'trip_duration'."
      ]
    },
    {
      "cell_type": "code",
      "execution_count": 14,
      "metadata": {
        "id": "tQP9eH54Z8sG"
      },
      "outputs": [],
      "source": [
        "# Load the dataset into a pandas DataFrame (from https://www.nyc.gov/site/tlc/about/tlc-trip-record-data.page)\n",
        "data = pd.read_parquet('https://d37ci6vzurychx.cloudfront.net/trip-data/yellow_tripdata_2022-01.parquet', engine='pyarrow')"
      ]
    },
    {
      "cell_type": "code",
      "execution_count": 15,
      "metadata": {
        "id": "BOMKJ3UMaphH",
        "colab": {
          "base_uri": "https://localhost:8080/"
        },
        "outputId": "7d05807c-c4ea-456e-bdc9-8aa618cf1a68"
      },
      "outputs": [
        {
          "output_type": "stream",
          "name": "stdout",
          "text": [
            "(2463931, 19)\n",
            "   VendorID tpep_pickup_datetime tpep_dropoff_datetime  passenger_count  \\\n",
            "0         1  2022-01-01 00:35:40   2022-01-01 00:53:29              2.0   \n",
            "1         1  2022-01-01 00:33:43   2022-01-01 00:42:07              1.0   \n",
            "2         2  2022-01-01 00:53:21   2022-01-01 01:02:19              1.0   \n",
            "3         2  2022-01-01 00:25:21   2022-01-01 00:35:23              1.0   \n",
            "4         2  2022-01-01 00:36:48   2022-01-01 01:14:20              1.0   \n",
            "\n",
            "   trip_distance  RatecodeID store_and_fwd_flag  PULocationID  DOLocationID  \\\n",
            "0           3.80         1.0                  N           142           236   \n",
            "1           2.10         1.0                  N           236            42   \n",
            "2           0.97         1.0                  N           166           166   \n",
            "3           1.09         1.0                  N           114            68   \n",
            "4           4.30         1.0                  N            68           163   \n",
            "\n",
            "   payment_type  fare_amount  extra  mta_tax  tip_amount  tolls_amount  \\\n",
            "0             1         14.5    3.0      0.5        3.65           0.0   \n",
            "1             1          8.0    0.5      0.5        4.00           0.0   \n",
            "2             1          7.5    0.5      0.5        1.76           0.0   \n",
            "3             2          8.0    0.5      0.5        0.00           0.0   \n",
            "4             1         23.5    0.5      0.5        3.00           0.0   \n",
            "\n",
            "   improvement_surcharge  total_amount  congestion_surcharge  airport_fee  \n",
            "0                    0.3         21.95                   2.5          0.0  \n",
            "1                    0.3         13.30                   0.0          0.0  \n",
            "2                    0.3         10.56                   0.0          0.0  \n",
            "3                    0.3         11.80                   2.5          0.0  \n",
            "4                    0.3         30.30                   2.5          0.0  \n"
          ]
        }
      ],
      "source": [
        "# Display the first few rows of the dataset\n",
        "print(data.shape)\n",
        "print(data.head(5))"
      ]
    },
    {
      "cell_type": "code",
      "execution_count": 16,
      "metadata": {
        "id": "L9stV02Xa9OO",
        "colab": {
          "base_uri": "https://localhost:8080/"
        },
        "outputId": "7809d710-59bc-47d2-947b-1839a0bf4822"
      },
      "outputs": [
        {
          "output_type": "stream",
          "name": "stdout",
          "text": [
            "(2392428, 19)\n"
          ]
        }
      ],
      "source": [
        "# Drop rows with missing values.\n",
        "data = data.dropna(axis=0)\n",
        "print(data.shape)"
      ]
    },
    {
      "cell_type": "code",
      "execution_count": 17,
      "metadata": {
        "id": "774eit-XcCIi"
      },
      "outputs": [],
      "source": [
        "# Create new feature, 'trip_duration'.\n",
        "col = data.apply(lambda row: ((row.tpep_dropoff_datetime - row.tpep_pickup_datetime).seconds)/60, axis=1)\n",
        "data = data.assign(trip_duration=col.values)"
      ]
    },
    {
      "cell_type": "code",
      "execution_count": 18,
      "metadata": {
        "id": "f_W01OeKcn_1"
      },
      "outputs": [],
      "source": [
        "target_variable = \"total_amount\""
      ]
    },
    {
      "cell_type": "code",
      "execution_count": 19,
      "metadata": {
        "id": "oYNg2JGDcZ18"
      },
      "outputs": [],
      "source": [
        "# Create a list called feature_col to store column names\n",
        "feature_cols = ['VendorID', 'trip_distance', 'payment_type', 'PULocationID', 'DOLocationID', 'trip_duration']"
      ]
    },
    {
      "cell_type": "markdown",
      "metadata": {
        "id": "YtsCZoCrdC57"
      },
      "source": [
        "Use Scikit-Learn's train_test_split to split the data into training and test sets. Don't forget to set the random state."
      ]
    },
    {
      "cell_type": "code",
      "execution_count": 20,
      "metadata": {
        "id": "hCnsxsg-dD9D"
      },
      "outputs": [],
      "source": [
        "# Split dataset into training and test sets\n",
        "# cols = \",\".join(str(feature) for feature in feature_cols)\n",
        "# cols += \",\" + str(target_variable)\n",
        "# data = data[cols.split(\",\")]\n",
        "X = data[feature_cols]\n",
        "y = data[target_variable]\n",
        "X_train, X_test, y_train, y_test = train_test_split(X, y, test_size=0.2, random_state=42)\n"
      ]
    },
    {
      "cell_type": "markdown",
      "metadata": {
        "id": "qHrLDV8ZdrWU"
      },
      "source": [
        "Create a model that always predicts the mean total fare of the training dataset. Use Scikit-Learn's mean_absolute_error to evaluate this model. Is it any good?"
      ]
    },
    {
      "cell_type": "code",
      "execution_count": null,
      "metadata": {
        "colab": {
          "base_uri": "https://localhost:8080/"
        },
        "id": "hDWERfv1ds1S",
        "outputId": "11132494-576e-4964-9662-c3feb5bf5a50"
      },
      "outputs": [
        {
          "name": "stdout",
          "output_type": "stream",
          "text": [
            "9.198227928516678\n"
          ]
        }
      ],
      "source": [
        "# Create a baseline for mean absolute error of total amount\n",
        "from sklearn.dummy import DummyRegressor\n",
        "dummy_regr = DummyRegressor(strategy=\"mean\")\n",
        "dummy_regr.fit(X_train, y_train)\n",
        "y_pred = dummy_regr.predict(X_test)\n",
        "\n",
        "mae = mean_absolute_error(y_test, y_pred)\n",
        "print(mae)\n"
      ]
    },
    {
      "cell_type": "markdown",
      "metadata": {
        "id": "Y4ftBCy9m1Nk"
      },
      "source": [
        "1. Use Scikit-Learn's ColumnTransformer to preprocess the categorical and continuous features independently. Apply the StandardScaler to the continuous columns and OneHotEncoder to the categorical columns.\n",
        "\n",
        "2. Integrate the preprocessor in the previous step with Scikit-Learn's LinearRegression model using a Pipeline.\n",
        "\n",
        "3. Train the pipeline on the training data.\n",
        "\n",
        "4. Evaluate the model using mean absolute error as a metric on the test data. Does the model beat the baseline?"
      ]
    },
    {
      "cell_type": "code",
      "execution_count": null,
      "metadata": {
        "colab": {
          "base_uri": "https://localhost:8080/"
        },
        "id": "co81z9kEl4dL",
        "outputId": "fbaf02da-cd56-4293-c502-dc71c88c5457"
      },
      "outputs": [
        {
          "name": "stdout",
          "output_type": "stream",
          "text": [
            "Index(['VendorID', 'trip_distance', 'payment_type', 'PULocationID',\n",
            "       'DOLocationID', 'trip_duration'],\n",
            "      dtype='object')\n",
            "Index([], dtype='object')\n"
          ]
        }
      ],
      "source": [
        "# Use Scikit-Learn's ColumnTransformer to preprocess the categorical and\n",
        "# continuous features independently.\n",
        "numerical_x = X.select_dtypes(include=['int64', 'float64']).columns\n",
        "categorical_x = X.select_dtypes(include=['object', 'bool']).columns\n",
        "\n",
        "print(numerical_x)\n",
        "print(categorical_x)\n",
        "\n",
        "\n",
        "t = [('num', StandardScaler(), numerical_x), ('cat', OneHotEncoder(), categorical_x)]\n",
        "\n",
        "transformer = ColumnTransformer(transformers=t, remainder='passthrough')"
      ]
    },
    {
      "cell_type": "code",
      "execution_count": null,
      "metadata": {
        "id": "ktr1epJKoGFb"
      },
      "outputs": [],
      "source": [
        "# Create a pipeline object containing the column transformations and regression\n",
        "# model.\n",
        "pipeline = Pipeline(steps=[('trans', transformer), ('model', LinearRegression())])"
      ]
    },
    {
      "cell_type": "code",
      "execution_count": null,
      "metadata": {
        "colab": {
          "base_uri": "https://localhost:8080/",
          "height": 192
        },
        "id": "_R0-AyrEqSPh",
        "outputId": "90c88136-5bdc-44ef-d8a7-e1e4daf87661"
      },
      "outputs": [
        {
          "data": {
            "text/html": [
              "<style>#sk-container-id-1 {color: black;background-color: white;}#sk-container-id-1 pre{padding: 0;}#sk-container-id-1 div.sk-toggleable {background-color: white;}#sk-container-id-1 label.sk-toggleable__label {cursor: pointer;display: block;width: 100%;margin-bottom: 0;padding: 0.3em;box-sizing: border-box;text-align: center;}#sk-container-id-1 label.sk-toggleable__label-arrow:before {content: \"▸\";float: left;margin-right: 0.25em;color: #696969;}#sk-container-id-1 label.sk-toggleable__label-arrow:hover:before {color: black;}#sk-container-id-1 div.sk-estimator:hover label.sk-toggleable__label-arrow:before {color: black;}#sk-container-id-1 div.sk-toggleable__content {max-height: 0;max-width: 0;overflow: hidden;text-align: left;background-color: #f0f8ff;}#sk-container-id-1 div.sk-toggleable__content pre {margin: 0.2em;color: black;border-radius: 0.25em;background-color: #f0f8ff;}#sk-container-id-1 input.sk-toggleable__control:checked~div.sk-toggleable__content {max-height: 200px;max-width: 100%;overflow: auto;}#sk-container-id-1 input.sk-toggleable__control:checked~label.sk-toggleable__label-arrow:before {content: \"▾\";}#sk-container-id-1 div.sk-estimator input.sk-toggleable__control:checked~label.sk-toggleable__label {background-color: #d4ebff;}#sk-container-id-1 div.sk-label input.sk-toggleable__control:checked~label.sk-toggleable__label {background-color: #d4ebff;}#sk-container-id-1 input.sk-hidden--visually {border: 0;clip: rect(1px 1px 1px 1px);clip: rect(1px, 1px, 1px, 1px);height: 1px;margin: -1px;overflow: hidden;padding: 0;position: absolute;width: 1px;}#sk-container-id-1 div.sk-estimator {font-family: monospace;background-color: #f0f8ff;border: 1px dotted black;border-radius: 0.25em;box-sizing: border-box;margin-bottom: 0.5em;}#sk-container-id-1 div.sk-estimator:hover {background-color: #d4ebff;}#sk-container-id-1 div.sk-parallel-item::after {content: \"\";width: 100%;border-bottom: 1px solid gray;flex-grow: 1;}#sk-container-id-1 div.sk-label:hover label.sk-toggleable__label {background-color: #d4ebff;}#sk-container-id-1 div.sk-serial::before {content: \"\";position: absolute;border-left: 1px solid gray;box-sizing: border-box;top: 0;bottom: 0;left: 50%;z-index: 0;}#sk-container-id-1 div.sk-serial {display: flex;flex-direction: column;align-items: center;background-color: white;padding-right: 0.2em;padding-left: 0.2em;position: relative;}#sk-container-id-1 div.sk-item {position: relative;z-index: 1;}#sk-container-id-1 div.sk-parallel {display: flex;align-items: stretch;justify-content: center;background-color: white;position: relative;}#sk-container-id-1 div.sk-item::before, #sk-container-id-1 div.sk-parallel-item::before {content: \"\";position: absolute;border-left: 1px solid gray;box-sizing: border-box;top: 0;bottom: 0;left: 50%;z-index: -1;}#sk-container-id-1 div.sk-parallel-item {display: flex;flex-direction: column;z-index: 1;position: relative;background-color: white;}#sk-container-id-1 div.sk-parallel-item:first-child::after {align-self: flex-end;width: 50%;}#sk-container-id-1 div.sk-parallel-item:last-child::after {align-self: flex-start;width: 50%;}#sk-container-id-1 div.sk-parallel-item:only-child::after {width: 0;}#sk-container-id-1 div.sk-dashed-wrapped {border: 1px dashed gray;margin: 0 0.4em 0.5em 0.4em;box-sizing: border-box;padding-bottom: 0.4em;background-color: white;}#sk-container-id-1 div.sk-label label {font-family: monospace;font-weight: bold;display: inline-block;line-height: 1.2em;}#sk-container-id-1 div.sk-label-container {text-align: center;}#sk-container-id-1 div.sk-container {/* jupyter's `normalize.less` sets `[hidden] { display: none; }` but bootstrap.min.css set `[hidden] { display: none !important; }` so we also need the `!important` here to be able to override the default hidden behavior on the sphinx rendered scikit-learn.org. See: https://github.com/scikit-learn/scikit-learn/issues/21755 */display: inline-block !important;position: relative;}#sk-container-id-1 div.sk-text-repr-fallback {display: none;}</style><div id=\"sk-container-id-1\" class=\"sk-top-container\"><div class=\"sk-text-repr-fallback\"><pre>Pipeline(steps=[(&#x27;trans&#x27;,\n",
              "                 ColumnTransformer(remainder=&#x27;passthrough&#x27;,\n",
              "                                   transformers=[(&#x27;num&#x27;, StandardScaler(),\n",
              "                                                  Index([&#x27;VendorID&#x27;, &#x27;trip_distance&#x27;, &#x27;payment_type&#x27;, &#x27;PULocationID&#x27;,\n",
              "       &#x27;DOLocationID&#x27;, &#x27;trip_duration&#x27;],\n",
              "      dtype=&#x27;object&#x27;)),\n",
              "                                                 (&#x27;cat&#x27;, OneHotEncoder(),\n",
              "                                                  Index([], dtype=&#x27;object&#x27;))])),\n",
              "                (&#x27;model&#x27;, LinearRegression())])</pre><b>In a Jupyter environment, please rerun this cell to show the HTML representation or trust the notebook. <br />On GitHub, the HTML representation is unable to render, please try loading this page with nbviewer.org.</b></div><div class=\"sk-container\" hidden><div class=\"sk-item sk-dashed-wrapped\"><div class=\"sk-label-container\"><div class=\"sk-label sk-toggleable\"><input class=\"sk-toggleable__control sk-hidden--visually\" id=\"sk-estimator-id-1\" type=\"checkbox\" ><label for=\"sk-estimator-id-1\" class=\"sk-toggleable__label sk-toggleable__label-arrow\">Pipeline</label><div class=\"sk-toggleable__content\"><pre>Pipeline(steps=[(&#x27;trans&#x27;,\n",
              "                 ColumnTransformer(remainder=&#x27;passthrough&#x27;,\n",
              "                                   transformers=[(&#x27;num&#x27;, StandardScaler(),\n",
              "                                                  Index([&#x27;VendorID&#x27;, &#x27;trip_distance&#x27;, &#x27;payment_type&#x27;, &#x27;PULocationID&#x27;,\n",
              "       &#x27;DOLocationID&#x27;, &#x27;trip_duration&#x27;],\n",
              "      dtype=&#x27;object&#x27;)),\n",
              "                                                 (&#x27;cat&#x27;, OneHotEncoder(),\n",
              "                                                  Index([], dtype=&#x27;object&#x27;))])),\n",
              "                (&#x27;model&#x27;, LinearRegression())])</pre></div></div></div><div class=\"sk-serial\"><div class=\"sk-item sk-dashed-wrapped\"><div class=\"sk-label-container\"><div class=\"sk-label sk-toggleable\"><input class=\"sk-toggleable__control sk-hidden--visually\" id=\"sk-estimator-id-2\" type=\"checkbox\" ><label for=\"sk-estimator-id-2\" class=\"sk-toggleable__label sk-toggleable__label-arrow\">trans: ColumnTransformer</label><div class=\"sk-toggleable__content\"><pre>ColumnTransformer(remainder=&#x27;passthrough&#x27;,\n",
              "                  transformers=[(&#x27;num&#x27;, StandardScaler(),\n",
              "                                 Index([&#x27;VendorID&#x27;, &#x27;trip_distance&#x27;, &#x27;payment_type&#x27;, &#x27;PULocationID&#x27;,\n",
              "       &#x27;DOLocationID&#x27;, &#x27;trip_duration&#x27;],\n",
              "      dtype=&#x27;object&#x27;)),\n",
              "                                (&#x27;cat&#x27;, OneHotEncoder(),\n",
              "                                 Index([], dtype=&#x27;object&#x27;))])</pre></div></div></div><div class=\"sk-parallel\"><div class=\"sk-parallel-item\"><div class=\"sk-item\"><div class=\"sk-label-container\"><div class=\"sk-label sk-toggleable\"><input class=\"sk-toggleable__control sk-hidden--visually\" id=\"sk-estimator-id-3\" type=\"checkbox\" ><label for=\"sk-estimator-id-3\" class=\"sk-toggleable__label sk-toggleable__label-arrow\">num</label><div class=\"sk-toggleable__content\"><pre>Index([&#x27;VendorID&#x27;, &#x27;trip_distance&#x27;, &#x27;payment_type&#x27;, &#x27;PULocationID&#x27;,\n",
              "       &#x27;DOLocationID&#x27;, &#x27;trip_duration&#x27;],\n",
              "      dtype=&#x27;object&#x27;)</pre></div></div></div><div class=\"sk-serial\"><div class=\"sk-item\"><div class=\"sk-estimator sk-toggleable\"><input class=\"sk-toggleable__control sk-hidden--visually\" id=\"sk-estimator-id-4\" type=\"checkbox\" ><label for=\"sk-estimator-id-4\" class=\"sk-toggleable__label sk-toggleable__label-arrow\">StandardScaler</label><div class=\"sk-toggleable__content\"><pre>StandardScaler()</pre></div></div></div></div></div></div><div class=\"sk-parallel-item\"><div class=\"sk-item\"><div class=\"sk-label-container\"><div class=\"sk-label sk-toggleable\"><input class=\"sk-toggleable__control sk-hidden--visually\" id=\"sk-estimator-id-5\" type=\"checkbox\" ><label for=\"sk-estimator-id-5\" class=\"sk-toggleable__label sk-toggleable__label-arrow\">cat</label><div class=\"sk-toggleable__content\"><pre>Index([], dtype=&#x27;object&#x27;)</pre></div></div></div><div class=\"sk-serial\"><div class=\"sk-item\"><div class=\"sk-estimator sk-toggleable\"><input class=\"sk-toggleable__control sk-hidden--visually\" id=\"sk-estimator-id-6\" type=\"checkbox\" ><label for=\"sk-estimator-id-6\" class=\"sk-toggleable__label sk-toggleable__label-arrow\">OneHotEncoder</label><div class=\"sk-toggleable__content\"><pre>OneHotEncoder()</pre></div></div></div></div></div></div><div class=\"sk-parallel-item\"><div class=\"sk-item\"><div class=\"sk-label-container\"><div class=\"sk-label sk-toggleable\"><input class=\"sk-toggleable__control sk-hidden--visually\" id=\"sk-estimator-id-7\" type=\"checkbox\" ><label for=\"sk-estimator-id-7\" class=\"sk-toggleable__label sk-toggleable__label-arrow\">remainder</label><div class=\"sk-toggleable__content\"><pre>[]</pre></div></div></div><div class=\"sk-serial\"><div class=\"sk-item\"><div class=\"sk-estimator sk-toggleable\"><input class=\"sk-toggleable__control sk-hidden--visually\" id=\"sk-estimator-id-8\" type=\"checkbox\" ><label for=\"sk-estimator-id-8\" class=\"sk-toggleable__label sk-toggleable__label-arrow\">passthrough</label><div class=\"sk-toggleable__content\"><pre>passthrough</pre></div></div></div></div></div></div></div></div><div class=\"sk-item\"><div class=\"sk-estimator sk-toggleable\"><input class=\"sk-toggleable__control sk-hidden--visually\" id=\"sk-estimator-id-9\" type=\"checkbox\" ><label for=\"sk-estimator-id-9\" class=\"sk-toggleable__label sk-toggleable__label-arrow\">LinearRegression</label><div class=\"sk-toggleable__content\"><pre>LinearRegression()</pre></div></div></div></div></div></div></div>"
            ],
            "text/plain": [
              "Pipeline(steps=[('trans',\n",
              "                 ColumnTransformer(remainder='passthrough',\n",
              "                                   transformers=[('num', StandardScaler(),\n",
              "                                                  Index(['VendorID', 'trip_distance', 'payment_type', 'PULocationID',\n",
              "       'DOLocationID', 'trip_duration'],\n",
              "      dtype='object')),\n",
              "                                                 ('cat', OneHotEncoder(),\n",
              "                                                  Index([], dtype='object'))])),\n",
              "                ('model', LinearRegression())])"
            ]
          },
          "execution_count": 12,
          "metadata": {},
          "output_type": "execute_result"
        }
      ],
      "source": [
        "# Fit the pipeline on the training data.\n",
        "pipeline.fit(X_train, y_train)"
      ]
    },
    {
      "cell_type": "code",
      "execution_count": null,
      "metadata": {
        "colab": {
          "base_uri": "https://localhost:8080/"
        },
        "id": "0cuIMKqQrQ7-",
        "outputId": "8cdc3433-cff9-44df-bf22-16617c2ff815"
      },
      "outputs": [
        {
          "name": "stdout",
          "output_type": "stream",
          "text": [
            "2.9656198158340654\n"
          ]
        }
      ],
      "source": [
        "# Make predictions on the test data.\n",
        "y_pred = pipeline.predict(X_test)\n",
        "mae = mean_absolute_error(y_test, y_pred)\n",
        "print(mae)"
      ]
    },
    {
      "cell_type": "markdown",
      "metadata": {
        "id": "5XQ_myXtrwuH"
      },
      "source": [
        "This model definitely beats the baseline model"
      ]
    },
    {
      "cell_type": "markdown",
      "metadata": {
        "id": "fZSxuZJ4r8pP"
      },
      "source": [
        "1. Build a Random Forest Regressor model using Scikit-Learn's RandomForestRegressor and train it on the train data.\n",
        "\n",
        "2. Evaluate the performance of the model on the test data using mean absolute error as a metric. Mess around with various input parameter configurations to see how they affect the model. Can you beat the performance of the linear regression model?"
      ]
    },
    {
      "cell_type": "code",
      "execution_count": null,
      "metadata": {
        "colab": {
          "base_uri": "https://localhost:8080/"
        },
        "id": "HXq9ZH_bS5m8",
        "outputId": "b27946a8-c1d3-49a9-c7e4-06afd88b25ad"
      },
      "outputs": [
        {
          "name": "stdout",
          "output_type": "stream",
          "text": [
            "Mean absolute error with criterion = 'squared_error': 1.6975470941748965\n",
            "Mean absolute error with criterion = 'friedman_mse': 1.6975775863504312\n"
          ]
        }
      ],
      "source": [
        "# Build random forest regressor model\n",
        "# rfr = RandomForestRegressor(n_estimators=100, random_state=42)\n",
        "# Crashed with message that RAM used up\n",
        "# rfr = RandomForestRegressor(n_estimators=50, n_jobs=10, random_state=42)\n",
        "# Crashed with message that RAM used up\n",
        "\n",
        "# Tweaking criterion\n",
        "# Using criterion=\"absolute_error\" crashed\n",
        "# Using criterion=\"poisson\" failed as negative values are no allowed for y\n",
        "\n",
        "criterion = [\"squared_error\", \"friedman_mse\"]\n",
        "for criteria in criterion:\n",
        "  rfr = RandomForestRegressor(n_estimators=20, criterion=criteria, n_jobs=5, random_state=42)\n",
        "\n",
        "  rfr.fit(X_train, y_train)\n",
        "  y_pred = rfr.predict(X_test)\n",
        "  print(f\"Mean absolute error with criterion = '{criteria}':\", mean_absolute_error(y_test, y_pred))\n",
        "\n",
        "# MAE with criterion = 'squared_error' was better performing compared to 'friedman_mse' by a very minute margin\n",
        "# criterion = 'squared_error' was also faster model"
      ]
    },
    {
      "cell_type": "code",
      "execution_count": null,
      "metadata": {
        "colab": {
          "base_uri": "https://localhost:8080/"
        },
        "id": "EDgF3bs3wXW-",
        "outputId": "9b3ffbc6-7991-4786-ec7c-da056cd665e7"
      },
      "outputs": [
        {
          "name": "stdout",
          "output_type": "stream",
          "text": [
            "Mean absolute error with n_estimators = 1: 2.0465458609577576\n",
            "Mean absolute error with n_estimators = 5: 2.1893195700305217\n",
            "Mean absolute error with n_estimators = 9: 1.899799678949222\n",
            "Mean absolute error with n_estimators = 13: 1.7878418327949885\n",
            "Mean absolute error with n_estimators = 17: 1.7282350195598852\n"
          ]
        }
      ],
      "source": [
        "# Tweaking n_estimators\n",
        "for i in range(1,18,4):\n",
        "  rfr = RandomForestRegressor(n_estimators=i, criterion='squared_error', n_jobs=5, random_state=42)\n",
        "\n",
        "  rfr.fit(X_train, y_train)\n",
        "  y_pred = rfr.predict(X_test)\n",
        "  print(f\"Mean absolute error with n_estimators = {i}:\", mean_absolute_error(y_test, y_pred))\n",
        "\n",
        "# MAE reduces as n_estimators increases except with n_estimators=1 and n_estimators=5 acting as an anamoly"
      ]
    },
    {
      "cell_type": "code",
      "execution_count": null,
      "metadata": {
        "colab": {
          "base_uri": "https://localhost:8080/"
        },
        "id": "bMI0Csqhx3Jf",
        "outputId": "75c601d3-7971-406b-d4b6-c2911859e728"
      },
      "outputs": [
        {
          "name": "stdout",
          "output_type": "stream",
          "text": [
            "Mean absolute error with n_jobs = 1: 1.6975470941748965\n",
            "Mean absolute error with n_jobs = 3: 1.6975470941748965\n",
            "Mean absolute error with n_jobs = 5: 1.6975470941748965\n",
            "Mean absolute error with n_jobs = 7: 1.6975470941748965\n",
            "Mean absolute error with n_jobs = 9: 1.6975470941748965\n",
            "Mean absolute error with n_jobs = 11: 1.6975470941748965\n"
          ]
        }
      ],
      "source": [
        "# Tweaking n_jobs\n",
        "for i in range(1,12,2):\n",
        "  rfr = RandomForestRegressor(n_estimators=20, criterion='squared_error', n_jobs=i, random_state=42)\n",
        "\n",
        "  rfr.fit(X_train, y_train)\n",
        "  y_pred = rfr.predict(X_test)\n",
        "  print(f\"Mean absolute error with n_jobs = {i}:\", mean_absolute_error(y_test, y_pred))\n",
        "\n",
        "# No difference in MAE between 1 - 11 n_jobs"
      ]
    },
    {
      "cell_type": "markdown",
      "metadata": {
        "id": "xXoJDteign2F"
      },
      "source": [
        "1. Perform a grid-search on a Random Forest Regressor model. Only search the space for the parameters 'n_estimators', 'max_depth', and 'min_samples_split'. Note, this can take some time to run. Make sure you set reasonable boundaries for the search space. Use Scikit-Learn's GridSearchCV method.\n",
        "\n",
        "2. After you've identified the best parameters, train a random forest regression model using these parameters on the full training data.\n",
        "\n",
        "3. Evaluate the model from the previous step using the test data. How does your model perform?"
      ]
    },
    {
      "cell_type": "code",
      "execution_count": 21,
      "metadata": {
        "colab": {
          "base_uri": "https://localhost:8080/",
          "height": 205
        },
        "id": "6PP4pQYngsvi",
        "outputId": "5ab7741d-a180-414e-ee6b-5fabe91c7d59"
      },
      "outputs": [
        {
          "output_type": "stream",
          "name": "stdout",
          "text": [
            "GridSearchCV(cv=5, estimator=RandomForestRegressor(), n_jobs=-1,\n",
            "             param_grid={'max_depth': [2, 4, 8, 15],\n",
            "                         'min_samples_split': [2, 4, 8],\n",
            "                         'n_estimators': [5, 10, 15, 20]},\n",
            "             return_train_score=True, scoring='neg_mean_absolute_error')\n"
          ]
        },
        {
          "output_type": "execute_result",
          "data": {
            "text/plain": [
              "GridSearchCV(cv=5, estimator=RandomForestRegressor(), n_jobs=-1,\n",
              "             param_grid={'max_depth': [2, 4, 8, 15],\n",
              "                         'min_samples_split': [2, 4, 8],\n",
              "                         'n_estimators': [5, 10, 15, 20]},\n",
              "             return_train_score=True, scoring='neg_mean_absolute_error')"
            ],
            "text/html": [
              "<style>#sk-container-id-1 {color: black;background-color: white;}#sk-container-id-1 pre{padding: 0;}#sk-container-id-1 div.sk-toggleable {background-color: white;}#sk-container-id-1 label.sk-toggleable__label {cursor: pointer;display: block;width: 100%;margin-bottom: 0;padding: 0.3em;box-sizing: border-box;text-align: center;}#sk-container-id-1 label.sk-toggleable__label-arrow:before {content: \"▸\";float: left;margin-right: 0.25em;color: #696969;}#sk-container-id-1 label.sk-toggleable__label-arrow:hover:before {color: black;}#sk-container-id-1 div.sk-estimator:hover label.sk-toggleable__label-arrow:before {color: black;}#sk-container-id-1 div.sk-toggleable__content {max-height: 0;max-width: 0;overflow: hidden;text-align: left;background-color: #f0f8ff;}#sk-container-id-1 div.sk-toggleable__content pre {margin: 0.2em;color: black;border-radius: 0.25em;background-color: #f0f8ff;}#sk-container-id-1 input.sk-toggleable__control:checked~div.sk-toggleable__content {max-height: 200px;max-width: 100%;overflow: auto;}#sk-container-id-1 input.sk-toggleable__control:checked~label.sk-toggleable__label-arrow:before {content: \"▾\";}#sk-container-id-1 div.sk-estimator input.sk-toggleable__control:checked~label.sk-toggleable__label {background-color: #d4ebff;}#sk-container-id-1 div.sk-label input.sk-toggleable__control:checked~label.sk-toggleable__label {background-color: #d4ebff;}#sk-container-id-1 input.sk-hidden--visually {border: 0;clip: rect(1px 1px 1px 1px);clip: rect(1px, 1px, 1px, 1px);height: 1px;margin: -1px;overflow: hidden;padding: 0;position: absolute;width: 1px;}#sk-container-id-1 div.sk-estimator {font-family: monospace;background-color: #f0f8ff;border: 1px dotted black;border-radius: 0.25em;box-sizing: border-box;margin-bottom: 0.5em;}#sk-container-id-1 div.sk-estimator:hover {background-color: #d4ebff;}#sk-container-id-1 div.sk-parallel-item::after {content: \"\";width: 100%;border-bottom: 1px solid gray;flex-grow: 1;}#sk-container-id-1 div.sk-label:hover label.sk-toggleable__label {background-color: #d4ebff;}#sk-container-id-1 div.sk-serial::before {content: \"\";position: absolute;border-left: 1px solid gray;box-sizing: border-box;top: 0;bottom: 0;left: 50%;z-index: 0;}#sk-container-id-1 div.sk-serial {display: flex;flex-direction: column;align-items: center;background-color: white;padding-right: 0.2em;padding-left: 0.2em;position: relative;}#sk-container-id-1 div.sk-item {position: relative;z-index: 1;}#sk-container-id-1 div.sk-parallel {display: flex;align-items: stretch;justify-content: center;background-color: white;position: relative;}#sk-container-id-1 div.sk-item::before, #sk-container-id-1 div.sk-parallel-item::before {content: \"\";position: absolute;border-left: 1px solid gray;box-sizing: border-box;top: 0;bottom: 0;left: 50%;z-index: -1;}#sk-container-id-1 div.sk-parallel-item {display: flex;flex-direction: column;z-index: 1;position: relative;background-color: white;}#sk-container-id-1 div.sk-parallel-item:first-child::after {align-self: flex-end;width: 50%;}#sk-container-id-1 div.sk-parallel-item:last-child::after {align-self: flex-start;width: 50%;}#sk-container-id-1 div.sk-parallel-item:only-child::after {width: 0;}#sk-container-id-1 div.sk-dashed-wrapped {border: 1px dashed gray;margin: 0 0.4em 0.5em 0.4em;box-sizing: border-box;padding-bottom: 0.4em;background-color: white;}#sk-container-id-1 div.sk-label label {font-family: monospace;font-weight: bold;display: inline-block;line-height: 1.2em;}#sk-container-id-1 div.sk-label-container {text-align: center;}#sk-container-id-1 div.sk-container {/* jupyter's `normalize.less` sets `[hidden] { display: none; }` but bootstrap.min.css set `[hidden] { display: none !important; }` so we also need the `!important` here to be able to override the default hidden behavior on the sphinx rendered scikit-learn.org. See: https://github.com/scikit-learn/scikit-learn/issues/21755 */display: inline-block !important;position: relative;}#sk-container-id-1 div.sk-text-repr-fallback {display: none;}</style><div id=\"sk-container-id-1\" class=\"sk-top-container\"><div class=\"sk-text-repr-fallback\"><pre>GridSearchCV(cv=5, estimator=RandomForestRegressor(), n_jobs=-1,\n",
              "             param_grid={&#x27;max_depth&#x27;: [2, 4, 8, 15],\n",
              "                         &#x27;min_samples_split&#x27;: [2, 4, 8],\n",
              "                         &#x27;n_estimators&#x27;: [5, 10, 15, 20]},\n",
              "             return_train_score=True, scoring=&#x27;neg_mean_absolute_error&#x27;)</pre><b>In a Jupyter environment, please rerun this cell to show the HTML representation or trust the notebook. <br />On GitHub, the HTML representation is unable to render, please try loading this page with nbviewer.org.</b></div><div class=\"sk-container\" hidden><div class=\"sk-item sk-dashed-wrapped\"><div class=\"sk-label-container\"><div class=\"sk-label sk-toggleable\"><input class=\"sk-toggleable__control sk-hidden--visually\" id=\"sk-estimator-id-1\" type=\"checkbox\" ><label for=\"sk-estimator-id-1\" class=\"sk-toggleable__label sk-toggleable__label-arrow\">GridSearchCV</label><div class=\"sk-toggleable__content\"><pre>GridSearchCV(cv=5, estimator=RandomForestRegressor(), n_jobs=-1,\n",
              "             param_grid={&#x27;max_depth&#x27;: [2, 4, 8, 15],\n",
              "                         &#x27;min_samples_split&#x27;: [2, 4, 8],\n",
              "                         &#x27;n_estimators&#x27;: [5, 10, 15, 20]},\n",
              "             return_train_score=True, scoring=&#x27;neg_mean_absolute_error&#x27;)</pre></div></div></div><div class=\"sk-parallel\"><div class=\"sk-parallel-item\"><div class=\"sk-item\"><div class=\"sk-label-container\"><div class=\"sk-label sk-toggleable\"><input class=\"sk-toggleable__control sk-hidden--visually\" id=\"sk-estimator-id-2\" type=\"checkbox\" ><label for=\"sk-estimator-id-2\" class=\"sk-toggleable__label sk-toggleable__label-arrow\">estimator: RandomForestRegressor</label><div class=\"sk-toggleable__content\"><pre>RandomForestRegressor()</pre></div></div></div><div class=\"sk-serial\"><div class=\"sk-item\"><div class=\"sk-estimator sk-toggleable\"><input class=\"sk-toggleable__control sk-hidden--visually\" id=\"sk-estimator-id-3\" type=\"checkbox\" ><label for=\"sk-estimator-id-3\" class=\"sk-toggleable__label sk-toggleable__label-arrow\">RandomForestRegressor</label><div class=\"sk-toggleable__content\"><pre>RandomForestRegressor()</pre></div></div></div></div></div></div></div></div></div></div>"
            ]
          },
          "metadata": {},
          "execution_count": 21
        }
      ],
      "source": [
        "# Create a Random Forest Regressor\n",
        "rfr = RandomForestRegressor()\n",
        "\n",
        "# Define the hyperparameters to tune.\n",
        "param_grid = {'n_estimators': [5, 10, 15, 20], 'max_depth': [2, 4, 8, 15], 'min_samples_split': [2, 4, 8]}\n",
        "\n",
        "# Create a GridSearchCV object\n",
        "grid_rf_class = GridSearchCV(\n",
        "    estimator=rfr,\n",
        "    param_grid=param_grid,\n",
        "    scoring='neg_mean_absolute_error',\n",
        "    n_jobs=-1,\n",
        "    cv=5,\n",
        "    refit=True, return_train_score=True)\n",
        "print(grid_rf_class)\n",
        "\n",
        "grid_rf_class.fit(X_train, y_train)"
      ]
    },
    {
      "cell_type": "code",
      "execution_count": 24,
      "metadata": {
        "colab": {
          "base_uri": "https://localhost:8080/"
        },
        "id": "XhhCtbWjwuJT",
        "outputId": "e760df89-ed41-412d-98ec-0b5f7d12db9b"
      },
      "outputs": [
        {
          "output_type": "stream",
          "name": "stdout",
          "text": [
            "Best score:  -1.9635011523034003\n",
            "Best Index:  46\n",
            "Best Estimator:  RandomForestRegressor(max_depth=15, min_samples_split=8, n_estimators=15)\n",
            "    mean_fit_time  std_fit_time  mean_score_time  std_score_time  \\\n",
            "46     136.924881      3.245486         1.139847        0.034768   \n",
            "\n",
            "   param_max_depth param_min_samples_split param_n_estimators  \\\n",
            "46              15                       8                 15   \n",
            "\n",
            "                                               params  split0_test_score  \\\n",
            "46  {'max_depth': 15, 'min_samples_split': 8, 'n_e...          -1.581096   \n",
            "\n",
            "    split1_test_score  ...  mean_test_score  std_test_score  rank_test_score  \\\n",
            "46          -2.551279  ...        -1.963501        0.391884                1   \n",
            "\n",
            "    split0_train_score  split1_train_score  split2_train_score  \\\n",
            "46           -1.796187           -1.401046           -1.670976   \n",
            "\n",
            "    split3_train_score  split4_train_score  mean_train_score  std_train_score  \n",
            "46            -1.80198           -1.906089         -1.715256         0.173883  \n",
            "\n",
            "[1 rows x 23 columns]\n"
          ]
        }
      ],
      "source": [
        "# Print out the MAE score from the best-performing square\n",
        "best_score = grid_rf_class.best_score_\n",
        "print(\"Best score: \", best_score)\n",
        "\n",
        "# Create a variable from the row related to the best-performing square\n",
        "print(\"Best Index: \", grid_rf_class.best_index_)\n",
        "\n",
        "print(\"Best Estimator: \", grid_rf_class.best_estimator_)\n",
        "\n",
        "cv_results_df = pd.DataFrame(grid_rf_class.cv_results_)\n",
        "best_row = cv_results_df.loc[[grid_rf_class.best_index_]]\n",
        "print(best_row)"
      ]
    },
    {
      "cell_type": "code",
      "execution_count": null,
      "metadata": {
        "colab": {
          "base_uri": "https://localhost:8080/",
          "height": 141
        },
        "id": "VbS-4gT3k5IJ",
        "outputId": "14242912-869a-4595-b2e9-ad61209c0c22"
      },
      "outputs": [
        {
          "ename": "NameError",
          "evalue": "name 'grid_rf_class' is not defined",
          "output_type": "error",
          "traceback": [
            "\u001b[0;31m---------------------------------------------------------------------------\u001b[0m",
            "\u001b[0;31mNameError\u001b[0m                                 Traceback (most recent call last)",
            "\u001b[0;32m<ipython-input-1-1d70a5068309>\u001b[0m in \u001b[0;36m<cell line: 1>\u001b[0;34m()\u001b[0m\n\u001b[0;32m----> 1\u001b[0;31m \u001b[0mprint\u001b[0m\u001b[0;34m(\u001b[0m\u001b[0mgrid_rf_class\u001b[0m\u001b[0;34m.\u001b[0m\u001b[0mbest_estimator_\u001b[0m\u001b[0;34m)\u001b[0m\u001b[0;34m\u001b[0m\u001b[0;34m\u001b[0m\u001b[0m\n\u001b[0m",
            "\u001b[0;31mNameError\u001b[0m: name 'grid_rf_class' is not defined"
          ]
        }
      ],
      "source": [
        "print(grid_rf_class.best_estimator_)"
      ]
    }
  ],
  "metadata": {
    "colab": {
      "provenance": [],
      "authorship_tag": "ABX9TyP7ZZWLLggWlBQHedmyM/PY",
      "include_colab_link": true
    },
    "kernelspec": {
      "display_name": "Python 3",
      "name": "python3"
    },
    "language_info": {
      "name": "python"
    }
  },
  "nbformat": 4,
  "nbformat_minor": 0
}